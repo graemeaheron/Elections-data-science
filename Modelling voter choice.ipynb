{
 "cells": [
  {
   "cell_type": "markdown",
   "metadata": {},
   "source": [
    "# Using survey data to model voter choice\n",
    "\n",
    "Could we predict which way somebody voted in the 2019 general election based upon their answers to survey questions and some descriptive characteristics? That's what I'm going to try and do.\n",
    "\n",
    "In this notebook I'll be using survey data collected in a panel survey carried out by the British Election Study. The data can be found here: https://www.britishelectionstudy.com/data-objects/panel-study-data/. The dataset is very large (about 97000x8080). The panel study is carried out in waves with some questions being asked over multiple waves and some not. The survey is constantly changing. Questions range from abstract social matters to opinions about how the economy is currently doing. Unfortunatley JuptyerLab crashes whenever I tried to load in the SPSS file using pandas so I've had use PSPP to convert the data into a csv file. This transformation wasn't the friendliest (e.g. in many columns that should have just had numeric values, values were represented as both strings and numbers) but it's nothing that can't be dealt with in data preprocessing. The transformation also gave me numbered representations of survey answers rather than the string actual answers. For the purposes of machine learning, this is very helpful in places but will require some further processing in other areas.\n",
    "\n",
    "In this notebook I'll go through:\n",
    "- Featrue and target engineering and preprocessing\n",
    "- Exploratory visualisation\n",
    "- Model creation and hyperparameter optimisation:\n",
    "   - Random forest\n",
    "   - Neural network\n",
    "\n",
    "I'll start by importing some of the packages we'll be using. The utilities import was created by myself for use with other parts of this project and its helpgul here. There's lots of other code in it and feel free to take a look."
   ]
  },
  {
   "cell_type": "code",
   "execution_count": 1,
   "metadata": {},
   "outputs": [],
   "source": [
    "import pandas as pd\n",
    "import numpy as np\n",
    "import matplotlib.pyplot as plt\n",
    "import utilities as election_helper\n",
    "\n",
    "ge_colour_map = election_helper.get_ge_colour_map()\n",
    "party_num_to_name = {\n",
    "    1: \"con\",\n",
    "    2: \"lab\",\n",
    "    3: \"ld\",\n",
    "    4: \"snp\",\n",
    "    5: \"pc\",\n",
    "    6: \"brexit\",\n",
    "    7: \"green\"\n",
    "}"
   ]
  },
  {
   "cell_type": "markdown",
   "metadata": {},
   "source": [
    "Respondents often leave questions they have answered before blank but some don't answer them at all. Below I define a function that will allow us to search through a dataframe and it's rows to find the most recent response to a survey question for each respondent. For those that don't answer a question, this is represented using None. However, it's important that we aren't using data that's too out of date as people's opinions may have changed so I only look for people's opinions just prior to the 2019 election campaigns kicking off up to the post-election survey."
   ]
  },
  {
   "cell_type": "code",
   "execution_count": 2,
   "metadata": {},
   "outputs": [],
   "source": [
    "def find_most_recent_answer(df, columns, invalid_values=[\"9999\", \"\", \" \", 9999, np.nan, 99, 98]):\n",
    "    # Returns a list of values representing respondents most recent answer to a survey question. None represents a respondent not giving an answer.\n",
    "    #\n",
    "    # Parameters:\n",
    "    # - df (DataFrame): dataframe to use for getting responses\n",
    "    # - columns (array of strings): ordered array of survey question column names to inspect for answers going from the most recent to least recent\n",
    "    # - invalid_values (array of strings): a list of values to deem as invalid repsonses and thus ignore\n",
    "    \n",
    "    values = np.array([])\n",
    "    for index, row in df.iterrows():\n",
    "        new_value = None\n",
    "        for column in columns:\n",
    "            if (not (row[column] in invalid_values)):\n",
    "                new_value = row[column]\n",
    "                break\n",
    "        values = np.append(values, new_value)\n",
    "    return values\n",
    "\n",
    "def print_columns_containing_string(df, string):\n",
    "    print([i for i in df.columns if (string in i.lower())])"
   ]
  },
  {
   "cell_type": "markdown",
   "metadata": {},
   "source": [
    "I'm going to use a question asking who respondetns voted for in the 2019 election from wave 19 of the survey as the target for modelling. Therefore, I'm going to load in the panel data set and then filter for only those respondents who gave a valid response to the target value. I've written the result of this filter to a new csv and the panel data takes a long time to load in so feel free to skip this bit."
   ]
  },
  {
   "cell_type": "code",
   "execution_count": 3,
   "metadata": {},
   "outputs": [
    {
     "name": "stderr",
     "output_type": "stream",
     "text": [
      "/home/graeme/anaconda3/lib/python3.7/site-packages/IPython/core/interactiveshell.py:3063: DtypeWarning: Columns (1,2,3,4,5,6,7,8,9,10,11,12,13,14,15,16,17,18,19,38,57,89,265,7116,7118,7124,7125,7126,7127,7128,7129,7130,7137,7138,7139,7140,7141,7142,7143,7146,7147,7148,7149,7150,7151,7152,7153,7154,7155,7156,7157,7158,7159,7160,7161,7162,7163,7164,7165,7166,7167,7168,7169,7170,7171,7172,7173,7174,7175,7176,7177,7178,7179,7180,7181,7182,7183,7184,7185,7186,7187,7188,7189,7283,7284,7285,7286,7287,7288,7289,7318,7319,7320,7321,7322,7323,7408,7409,7410,7411,7412,7413,7415,7428,7429,7432,7433,7439,7721,7722,7723,7724,7725,7726,7727,7728,7729,7730,7731,7732,7733,7734,7735,7736,7742,7743,7744,7747,7748,7749,7750,7755,7882,7887,7993,8012,8014,8026,8044,8074) have mixed types.Specify dtype option on import or set low_memory=False.\n",
      "  interactivity=interactivity, compiler=compiler, result=result)\n"
     ]
    }
   ],
   "source": [
    "original_data_df = pd.read_csv(\"csvs/bes_datasets/wave1-19BES.csv\")\n",
    "bes_w1_w19_df = original_data_df[~original_data_df[\"p_past_vote_2019\"].isin([9999, \"9999\", \" \"])]\n",
    "bes_w1_w19_df.to_csv(\"csvs/bes_datasets/BES_w1-19_for_w19_respondents.csv\", index=False)"
   ]
  },
  {
   "cell_type": "code",
   "execution_count": 4,
   "metadata": {},
   "outputs": [
    {
     "name": "stderr",
     "output_type": "stream",
     "text": [
      "/home/graeme/anaconda3/lib/python3.7/site-packages/IPython/core/interactiveshell.py:3063: DtypeWarning: Columns (184,7119,7121,7123,7161,7167,7169,7174,7181,7182,7183,7184,7185,7186,7433,7722,7723,7725,7726,7727,7728,7729,7730,7732,7733,7734,7747,7748,7755,7882,7993) have mixed types.Specify dtype option on import or set low_memory=False.\n",
      "  interactivity=interactivity, compiler=compiler, result=result)\n"
     ]
    }
   ],
   "source": [
    "bes_w1_w19_df = pd.read_csv(\"csvs/bes_datasets/BES_w1-19_for_w19_respondents.csv\")\n",
    "modelling_df = pd.DataFrame()"
   ]
  },
  {
   "cell_type": "markdown",
   "metadata": {},
   "source": [
    "# Feature engineering\n",
    "\n",
    "Now, I'm going to assemble the target and features I'll use for modelling. To start with, I'll go through the panel data and engineer different columns to get respondents answers to questions. Some of this will be simple (e.g. pd.to_numeric()) and some of this will be a little more complex, pulling in different datasets from time to time.\n",
    "\n",
    "### Target: 2019 general election vote"
   ]
  },
  {
   "cell_type": "code",
   "execution_count": 5,
   "metadata": {},
   "outputs": [],
   "source": [
    "bes_w1_w19_df[\"p_past_vote_2019\"] = pd.to_numeric(bes_w1_w19_df[\"p_past_vote_2019\"], errors=\"coerce\")\n",
    "bes_w1_w19_df[\"generalElectionVoteW19\"] = pd.to_numeric(bes_w1_w19_df[\"generalElectionVoteW19\"], errors=\"coerce\")"
   ]
  },
  {
   "cell_type": "code",
   "execution_count": 6,
   "metadata": {},
   "outputs": [],
   "source": [
    "bes_w1_w19_df = bes_w1_w19_df[bes_w1_w19_df[\"generalElectionVoteW19\"].isin([1, 2, 3, 4, 5, 7, 12])]\n",
    "bes_w1_w19_df = bes_w1_w19_df[bes_w1_w19_df[\"p_past_vote_2019\"].isin([1, 2, 3, 4, 5, 7, 12])]\n",
    "\n",
    "bes_w1_w19_df.loc[bes_w1_w19_df[\"generalElectionVoteW19\"] == 12, \"generalElectionVoteW19\"] = 6\n",
    "bes_w1_w19_df.loc[bes_w1_w19_df[\"p_past_vote_2019\"] == 12, \"p_past_vote_2019\"] = 6\n",
    "\n",
    "modelling_df[\"ge_2019_vote\"] = find_most_recent_answer(bes_w1_w19_df, [\"generalElectionVoteW19\", \"p_past_vote_2019\"])"
   ]
  },
  {
   "cell_type": "code",
   "execution_count": 7,
   "metadata": {},
   "outputs": [
    {
     "data": {
      "text/plain": [
       "Text(0, 0.5, 'Number of examples')"
      ]
     },
     "execution_count": 7,
     "metadata": {},
     "output_type": "execute_result"
    },
    {
     "data": {
      "image/png": "[encoded data removed]",
      "text/plain": [
       "<Figure size 864x360 with 1 Axes>"
      ]
     },
     "metadata": {
      "needs_background": "light"
     },
     "output_type": "display_data"
    }
   ],
   "source": [
    "fig, axes = plt.subplots(figsize=(12,5))\n",
    "\n",
    "val_counts = modelling_df[\"ge_2019_vote\"].value_counts()\n",
    "axes.bar([party_num_to_name[party] for party in val_counts.index],\n",
    "        val_counts.values,\n",
    "        color=[ge_colour_map[party_num_to_name[party]] for party in val_counts.index])\n",
    "axes.set_title(\"Distribution of 2015 winners in 2010 lib dem seats\")\n",
    "axes.set_xlabel(\"Party (target)\")\n",
    "axes.set_ylabel(\"Number of examples\")"
   ]
  },
  {
   "cell_type": "markdown",
   "metadata": {},
   "source": [
    "### Features: left right values survey questions"
   ]
  },
  {
   "cell_type": "code",
   "execution_count": 8,
   "metadata": {},
   "outputs": [],
   "source": [
    "modelling_df[\"lr1\"] = pd.to_numeric(find_most_recent_answer(bes_w1_w19_df, [\"lr1W17\", \"lr1W16\", \"lr1W14W15\"]), errors=\"coerce\")\n",
    "modelling_df[\"lr2\"] = pd.to_numeric(find_most_recent_answer(bes_w1_w19_df, [\"lr2W17\", \"lr2W16\", \"lr2W14W15\"]), errors=\"coerce\")\n",
    "modelling_df[\"lr3\"] = pd.to_numeric(find_most_recent_answer(bes_w1_w19_df, [\"lr3W17\", \"lr3W16\", \"lr3W14W15\"]), errors=\"coerce\")\n",
    "modelling_df[\"lr4\"] = pd.to_numeric(find_most_recent_answer(bes_w1_w19_df, [\"lr4W17\", \"lr4W16\", \"lr4W14W15\"]), errors=\"coerce\")\n",
    "modelling_df[\"lr5\"] = pd.to_numeric(find_most_recent_answer(bes_w1_w19_df, [\"lr5W17\", \"lr5W16\", \"lr5W14W15\"]), errors=\"coerce\")"
   ]
  },
  {
   "cell_type": "code",
   "execution_count": 9,
   "metadata": {},
   "outputs": [
    {
     "name": "stderr",
     "output_type": "stream",
     "text": [
      "/home/graeme/anaconda3/lib/python3.7/site-packages/ipykernel_launcher.py:14: UserWarning: You have mixed positional and keyword arguments, some input may be discarded.\n",
      "  \n"
     ]
    },
    {
     "name": "stdout",
     "output_type": "stream",
     "text": [
      "\n"
     ]
    },
    {
     "data": {
      "image/png": "[encoded data removed]",
      "text/plain": [
       "<Figure size 2160x864 with 6 Axes>"
      ]
     },
     "metadata": {
      "needs_background": "light"
     },
     "output_type": "display_data"
    }
   ],
   "source": [
    "fig, axes = plt.subplots(2, 3, figsize=(30,12))\n",
    "\n",
    "for i in range(0, 5):\n",
    "    axes[int(i / 3)][i % 3].hist(x=[modelling_df[modelling_df[\"ge_2019_vote\"] == 1][\"lr\" + str(i + 1)],\n",
    "            modelling_df[modelling_df[\"ge_2019_vote\"] == 2][\"lr\" + str(i + 1)],\n",
    "            modelling_df[modelling_df[\"ge_2019_vote\"] == 3][\"lr\" + str(i + 1)]],\n",
    "        color=[\"blue\", \"red\", \"gold\"],\n",
    "        label=[\"con\", \"lab\", \"ld\"])\n",
    "    axes[int(i / 3)][i % 3].set_xlabel(\"<--- right/left --->\")\n",
    "    axes[int(i / 3)][i % 3].set_ylabel(\"respondents\")\n",
    "\n",
    "axes[1][2].axis(\"off\")\n",
    "\n",
    "fig.legend(axes[0][0], labels=[\"con\", \"lab\", \"ld\"])\n",
    "\n",
    "print()"
   ]
  },
  {
   "cell_type": "markdown",
   "metadata": {},
   "source": [
    "### Features: liberal authoritarian values survey questions"
   ]
  },
  {
   "cell_type": "code",
   "execution_count": 10,
   "metadata": {},
   "outputs": [],
   "source": [
    "modelling_df[\"al1\"] = pd.to_numeric(find_most_recent_answer(bes_w1_w19_df, [\"al1W17\", \"al1W16\", \"al1W14W15\"]), errors=\"coerce\")\n",
    "modelling_df[\"al2\"] = pd.to_numeric(find_most_recent_answer(bes_w1_w19_df, [\"al2W17\", \"al2W16\", \"al2W14W15\"]), errors=\"coerce\")\n",
    "modelling_df[\"al3\"] = pd.to_numeric(find_most_recent_answer(bes_w1_w19_df, [\"al3W17\", \"al3W16\", \"al3W14W15\"]), errors=\"coerce\")\n",
    "modelling_df[\"al4\"] = pd.to_numeric(find_most_recent_answer(bes_w1_w19_df, [\"al4W17\", \"al4W16\", \"al4W14W15\"]), errors=\"coerce\")\n",
    "modelling_df[\"al5\"] = pd.to_numeric(find_most_recent_answer(bes_w1_w19_df, [\"al5W17\", \"al5W16\", \"al5W14W15\"]), errors=\"coerce\")"
   ]
  },
  {
   "cell_type": "code",
   "execution_count": 11,
   "metadata": {},
   "outputs": [
    {
     "name": "stderr",
     "output_type": "stream",
     "text": [
      "/home/graeme/anaconda3/lib/python3.7/site-packages/ipykernel_launcher.py:14: UserWarning: You have mixed positional and keyword arguments, some input may be discarded.\n",
      "  \n"
     ]
    },
    {
     "name": "stdout",
     "output_type": "stream",
     "text": [
      "\n"
     ]
    },
    {
     "data": {
      "image/png": "[encoded data removed]",
      "text/plain": [
       "<Figure size 2160x864 with 6 Axes>"
      ]
     },
     "metadata": {
      "needs_background": "light"
     },
     "output_type": "display_data"
    }
   ],
   "source": [
    "fig, axes = plt.subplots(2, 3, figsize=(30,12))\n",
    "\n",
    "for i in range(0, 5):\n",
    "    axes[int(i / 3)][i % 3].hist(x=[modelling_df[modelling_df[\"ge_2019_vote\"] == 1][\"al\" + str(i + 1)],\n",
    "            modelling_df[modelling_df[\"ge_2019_vote\"] == 2][\"al\" + str(i + 1)],\n",
    "            modelling_df[modelling_df[\"ge_2019_vote\"] == 3][\"al\" + str(i + 1)]],\n",
    "        color=[\"blue\", \"red\", \"gold\"],\n",
    "        label=[\"con\", \"lab\", \"ld\"])\n",
    "    axes[int(i / 3)][i % 3].set_xlabel(\"<--- liberal/authoritarian --->\")\n",
    "    axes[int(i / 3)][i % 3].set_ylabel(\"respondents\")\n",
    "    \n",
    "axes[1][2].axis(\"off\")\n",
    "\n",
    "fig.legend(axes[0][0], labels=[\"con\", \"lab\", \"ld\"])\n",
    "\n",
    "print()"
   ]
  },
  {
   "cell_type": "markdown",
   "metadata": {},
   "source": [
    "### Features: EU survey questions"
   ]
  },
  {
   "cell_type": "code",
   "execution_count": 12,
   "metadata": {},
   "outputs": [],
   "source": [
    "# euRefVote:\n",
    "# - 0: Remain\n",
    "# - 1: Leave\n",
    "# - 9999: Don't know\n",
    "# - 2: I would/will not vote\n",
    "\n",
    "# euRefDoOver:\n",
    "# - 0: No\n",
    "# - 1: Yes\n",
    "# - 9999: Don't know\n",
    "\n",
    "modelling_df[\"new_eu_ref_vote\"] = find_most_recent_answer(bes_w1_w19_df, [\"euRefVoteW19\", \"euRefVoteW18\", \"euRefVoteW17\", \"euRefVoteW16\", \"euRefVoteW15\"])\n",
    "modelling_df[\"should_there_be_a_new_eu_ref\"] = find_most_recent_answer(bes_w1_w19_df, ['euRefDoOverW19', 'euRefDoOverW18', 'euRefDoOverW17', 'euRefDoOverW16', 'euRefDoOverW15'])\n",
    "\n",
    "modelling_df[\"new_eu_ref_vote\"] = pd.to_numeric(modelling_df[\"new_eu_ref_vote\"], errors=\"coerce\")\n",
    "modelling_df.loc[modelling_df[\"new_eu_ref_vote\"] == 2, \"new_eu_ref_vote\"] = None\n",
    "modelling_df[\"should_there_be_a_new_eu_ref\"] = pd.to_numeric(modelling_df[\"should_there_be_a_new_eu_ref\"], errors=\"coerce\")\n",
    "\n",
    "# EUIntegrationSelf: 10 = should be pushed further, 0 = gone too far\n",
    "modelling_df[\"opinion_on_eu_integration\"] = find_most_recent_answer(bes_w1_w19_df, [\"EUIntegrationSelfW19\", \"EUIntegrationSelfW18\", \"EUIntegrationSelfW17\", \"EUIntegrationSelfW16\", \"EUIntegrationSelfW15\"])\n",
    "modelling_df[\"opinion_on_eu_integration\"] = pd.to_numeric(modelling_df[\"opinion_on_eu_integration\"], errors=\"coerce\")"
   ]
  },
  {
   "cell_type": "code",
   "execution_count": 13,
   "metadata": {},
   "outputs": [
    {
     "name": "stdout",
     "output_type": "stream",
     "text": [
      "\n"
     ]
    },
    {
     "data": {
      "image/png": "[encoded data removed]",
      "text/plain": [
       "<Figure size 1440x360 with 3 Axes>"
      ]
     },
     "metadata": {
      "needs_background": "light"
     },
     "output_type": "display_data"
    }
   ],
   "source": [
    "fig, axes = plt.subplots(1, 3, figsize=(20,5))\n",
    "\n",
    "axes[0].hist(x=[modelling_df[modelling_df[\"ge_2019_vote\"] == 1][\"new_eu_ref_vote\"],\n",
    "                    modelling_df[modelling_df[\"ge_2019_vote\"] == 2][\"new_eu_ref_vote\"],\n",
    "                    modelling_df[modelling_df[\"ge_2019_vote\"] == 3][\"new_eu_ref_vote\"]],\n",
    "                color=[\"blue\", \"red\", \"gold\"],\n",
    "                label=[\"con\", \"lab\", \"ld\"])\n",
    "axes[0].set_xlabel(\"<--- remain/leave --->\")\n",
    "axes[0].set_ylabel(\"respondents\")\n",
    "axes[0].set_title(\"How would you vote a 2nd EU referendum?\")\n",
    "\n",
    "axes[1].hist(x=[modelling_df[modelling_df[\"ge_2019_vote\"] == 1][\"should_there_be_a_new_eu_ref\"],\n",
    "                    modelling_df[modelling_df[\"ge_2019_vote\"] == 2][\"should_there_be_a_new_eu_ref\"],\n",
    "                    modelling_df[modelling_df[\"ge_2019_vote\"] == 3][\"should_there_be_a_new_eu_ref\"]],\n",
    "                color=[\"blue\", \"red\", \"gold\"],\n",
    "                label=[\"con\", \"lab\", \"ld\"])\n",
    "axes[1].set_xlabel(\"<--- no/yes --->\")\n",
    "axes[1].set_ylabel(\"respondents\")\n",
    "axes[1].set_title(\"Should there be a 2nd EU referendum?\")\n",
    "\n",
    "axes[2].hist(x=[modelling_df[modelling_df[\"ge_2019_vote\"] == 1][\"opinion_on_eu_integration\"],\n",
    "                    modelling_df[modelling_df[\"ge_2019_vote\"] == 2][\"opinion_on_eu_integration\"],\n",
    "                    modelling_df[modelling_df[\"ge_2019_vote\"] == 3][\"opinion_on_eu_integration\"]],\n",
    "                color=[\"blue\", \"red\", \"gold\"],\n",
    "                label=[\"con\", \"lab\", \"ld\"])\n",
    "axes[2].set_xlabel(\"<--- not enough/too far --->\")\n",
    "axes[2].set_ylabel(\"respondents\")\n",
    "axes[2].set_title(\"Opinion on EU integration\")\n",
    "\n",
    "print()"
   ]
  },
  {
   "cell_type": "markdown",
   "metadata": {},
   "source": [
    "### Features: Economy survey questions"
   ]
  },
  {
   "cell_type": "code",
   "execution_count": 14,
   "metadata": {},
   "outputs": [],
   "source": [
    "# changeEconomy:\n",
    "# 1: Getting a lot worse\n",
    "# 2: Getting a little worse\n",
    "# 3: Staying about the same\n",
    "# 4: Getting a little better\n",
    "# 5: Getting a lot better\n",
    "\n",
    "modelling_df[\"perceived_change_in_economy\"] = pd.to_numeric(find_most_recent_answer(bes_w1_w19_df, [\"changeEconomyW18\", \"changeEconomyW17\", \"changeEconomyW16\"]), errors=\"coerce\")"
   ]
  },
  {
   "cell_type": "code",
   "execution_count": 15,
   "metadata": {},
   "outputs": [
    {
     "name": "stdout",
     "output_type": "stream",
     "text": [
      "\n"
     ]
    },
    {
     "data": {
      "image/png": "[encoded data removed]",
      "text/plain": [
       "<Figure size 720x360 with 1 Axes>"
      ]
     },
     "metadata": {
      "needs_background": "light"
     },
     "output_type": "display_data"
    }
   ],
   "source": [
    "fig, axes = plt.subplots(figsize=(10,5))\n",
    "\n",
    "axes.hist(x=[modelling_df[modelling_df[\"ge_2019_vote\"] == 1][\"perceived_change_in_economy\"],\n",
    "                    modelling_df[modelling_df[\"ge_2019_vote\"] == 2][\"perceived_change_in_economy\"],\n",
    "                    modelling_df[modelling_df[\"ge_2019_vote\"] == 3][\"perceived_change_in_economy\"]],\n",
    "                color=[\"blue\", \"red\", \"gold\"],\n",
    "                label=[\"con\", \"lab\", \"ld\"])\n",
    "axes.set_xlabel(\"<--- worse/better --->\")\n",
    "axes.set_ylabel(\"respondents\")\n",
    "axes.set_title(\"Do you think the economy is getting worse or better?\")\n",
    "\n",
    "print()"
   ]
  },
  {
   "cell_type": "markdown",
   "metadata": {},
   "source": [
    "### Features: Other suvery questions"
   ]
  },
  {
   "cell_type": "code",
   "execution_count": 16,
   "metadata": {},
   "outputs": [],
   "source": [
    "# Tactical vote\n",
    "tactical_vote = np.array([])\n",
    "for value in bes_w1_w19_df[\"reasonForVoteW19\"].values:\n",
    "    if (value == 4):\n",
    "        tactical_vote = np.append(tactical_vote, 1)\n",
    "    else:\n",
    "        tactical_vote = np.append(tactical_vote, 0)\n",
    "\n",
    "modelling_df[\"tactical_vote\"] = tactical_vote\n",
    "\n",
    "# Trust in MPs\n",
    "modelling_df[\"trust_in_mps\"] = pd.to_numeric(find_most_recent_answer(bes_w1_w19_df, [\"trustMPsW19\", \"trustMPsW18\", \"trustMPsW17\", \"trustMPsW16\", \"trustMPsW15\"]), errors=\"coerce\")\n",
    "\n",
    "# Attention to politics\n",
    "modelling_df[\"attention_to_politics\"] = pd.to_numeric(find_most_recent_answer(bes_w1_w19_df, [\"polAttentionW19\", \"polAttentionW17\", \"polAttentionW16\", \"polAttentionW15\"]), errors=\"coerce\")"
   ]
  },
  {
   "cell_type": "code",
   "execution_count": 17,
   "metadata": {},
   "outputs": [
    {
     "name": "stdout",
     "output_type": "stream",
     "text": [
      "\n"
     ]
    },
    {
     "data": {
      "image/png": "[encoded data removed]",
      "text/plain": [
       "<Figure size 1440x360 with 3 Axes>"
      ]
     },
     "metadata": {
      "needs_background": "light"
     },
     "output_type": "display_data"
    }
   ],
   "source": [
    "fig, axes = plt.subplots(1, 3, figsize=(20,5))\n",
    "\n",
    "axes[0].hist(x=[modelling_df[modelling_df[\"ge_2019_vote\"] == 1][\"tactical_vote\"],\n",
    "                    modelling_df[modelling_df[\"ge_2019_vote\"] == 2][\"tactical_vote\"],\n",
    "                    modelling_df[modelling_df[\"ge_2019_vote\"] == 3][\"tactical_vote\"]],\n",
    "                color=[\"blue\", \"red\", \"gold\"],\n",
    "                label=[\"con\", \"lab\", \"ld\"])\n",
    "axes[0].set_xlabel(\"<--- remain/leave --->\")\n",
    "axes[0].set_ylabel(\"respondents\")\n",
    "axes[0].set_title(\"Did you vote tactically in the 2019 election?\")\n",
    "\n",
    "axes[1].hist(x=[modelling_df[modelling_df[\"ge_2019_vote\"] == 1][\"trust_in_mps\"],\n",
    "                    modelling_df[modelling_df[\"ge_2019_vote\"] == 2][\"trust_in_mps\"],\n",
    "                    modelling_df[modelling_df[\"ge_2019_vote\"] == 3][\"trust_in_mps\"]],\n",
    "                color=[\"blue\", \"red\", \"gold\"],\n",
    "                label=[\"con\", \"lab\", \"ld\"])\n",
    "axes[1].set_xlabel(\"<--- less/more --->\")\n",
    "axes[1].set_ylabel(\"respondents\")\n",
    "axes[1].set_title(\"How much do you trust MPs?\")\n",
    "\n",
    "axes[2].hist(x=[modelling_df[modelling_df[\"ge_2019_vote\"] == 1][\"attention_to_politics\"],\n",
    "                    modelling_df[modelling_df[\"ge_2019_vote\"] == 2][\"attention_to_politics\"],\n",
    "                    modelling_df[modelling_df[\"ge_2019_vote\"] == 3][\"attention_to_politics\"]],\n",
    "                color=[\"blue\", \"red\", \"gold\"],\n",
    "                label=[\"con\", \"lab\", \"ld\"])\n",
    "axes[2].set_xlabel(\"<--- less/more --->\")\n",
    "axes[2].set_ylabel(\"respondents\")\n",
    "axes[2].set_title(\"How much do you generally pay attention to politics?\")\n",
    "\n",
    "print()"
   ]
  },
  {
   "cell_type": "code",
   "execution_count": 18,
   "metadata": {},
   "outputs": [],
   "source": [
    "# Like of the leaders\n",
    "modelling_df[\"opinon_on_corbyn\"] = pd.to_numeric(find_most_recent_answer(bes_w1_w19_df, [\"likeCorbynW19\", \"likeCorbynW18\", \"likeCorbynW17\", \"likeCorbynW16\", \"likeCorbynW15\"]), errors=\"coerce\")\n",
    "modelling_df[\"opinon_on_johnson\"] = pd.to_numeric(find_most_recent_answer(bes_w1_w19_df, [\"likeJohnsonW19\", \"likeJohnsonW18\", \"likeJohnsonW17\",]), errors=\"coerce\")\n",
    "modelling_df[\"opinon_on_swinson\"] = pd.to_numeric(find_most_recent_answer(bes_w1_w19_df, [\"likeSwinsonW19\", \"likeSwinsonW18\", \"likeSwinsonW17\"]), errors=\"coerce\")"
   ]
  },
  {
   "cell_type": "code",
   "execution_count": 19,
   "metadata": {},
   "outputs": [
    {
     "name": "stdout",
     "output_type": "stream",
     "text": [
      "\n"
     ]
    },
    {
     "data": {
      "image/png": "[encoded data removed]",
      "text/plain": [
       "<Figure size 1440x360 with 3 Axes>"
      ]
     },
     "metadata": {
      "needs_background": "light"
     },
     "output_type": "display_data"
    }
   ],
   "source": [
    "fig, axes = plt.subplots(1, 3, figsize=(20,5))\n",
    "\n",
    "axes[0].hist(x=[modelling_df[modelling_df[\"ge_2019_vote\"] == 1][\"opinon_on_corbyn\"],\n",
    "                    modelling_df[modelling_df[\"ge_2019_vote\"] == 2][\"opinon_on_corbyn\"],\n",
    "                    modelling_df[modelling_df[\"ge_2019_vote\"] == 3][\"opinon_on_corbyn\"]],\n",
    "                color=[\"blue\", \"red\", \"gold\"],\n",
    "                label=[\"con\", \"lab\", \"ld\"])\n",
    "axes[0].set_xlabel(\"<--- dislike/like --->\")\n",
    "axes[0].set_ylabel(\"respondents\")\n",
    "axes[0].set_title(\"Opinions on Jeremy Corbyn\")\n",
    "\n",
    "axes[1].hist(x=[modelling_df[modelling_df[\"ge_2019_vote\"] == 1][\"opinon_on_johnson\"],\n",
    "                    modelling_df[modelling_df[\"ge_2019_vote\"] == 2][\"opinon_on_johnson\"],\n",
    "                    modelling_df[modelling_df[\"ge_2019_vote\"] == 3][\"opinon_on_johnson\"]],\n",
    "                color=[\"blue\", \"red\", \"gold\"],\n",
    "                label=[\"con\", \"lab\", \"ld\"])\n",
    "axes[1].set_xlabel(\"<--- dislike/like --->\")\n",
    "axes[1].set_ylabel(\"respondents\")\n",
    "axes[1].set_title(\"Opinions on Boris Johnson\")\n",
    "\n",
    "axes[2].hist(x=[modelling_df[modelling_df[\"ge_2019_vote\"] == 1][\"opinon_on_swinson\"],\n",
    "                    modelling_df[modelling_df[\"ge_2019_vote\"] == 2][\"opinon_on_swinson\"],\n",
    "                    modelling_df[modelling_df[\"ge_2019_vote\"] == 3][\"opinon_on_swinson\"]],\n",
    "                color=[\"blue\", \"red\", \"gold\"],\n",
    "                label=[\"con\", \"lab\", \"ld\"])\n",
    "axes[2].set_xlabel(\"<--- dislike/like --->\")\n",
    "axes[2].set_ylabel(\"respondents\")\n",
    "axes[2].set_title(\"Opinions on Jo Swinson\")\n",
    "\n",
    "print()"
   ]
  },
  {
   "cell_type": "markdown",
   "metadata": {},
   "source": [
    "### Features: Education"
   ]
  },
  {
   "cell_type": "code",
   "execution_count": 20,
   "metadata": {},
   "outputs": [],
   "source": [
    "edlevel_mapping = {\n",
    "    1: 0, #'No qualifications',\n",
    "    2: 2, #'Level 2',\n",
    "    3: 2, #'Level 2',\n",
    "    4: 1, #'Level 1',\n",
    "    5: 1, #'Level 1',\n",
    "    6: 2, #'Level 2',\n",
    "    7: 2, #'Level 2',\n",
    "    8: 1, #'Level 1',\n",
    "    9: 2, #'Level 2',\n",
    "    10: 2, #'Level 2',\n",
    "    11: 3, #'Level 3',\n",
    "    12: 3, #'Level 3',\n",
    "    13: 4, #'Level 4/5',\n",
    "    14: 4, #'Level 4/5',\n",
    "    15: 4, #'Level 4/5',\n",
    "    16: 4, #'Level 4/5',\n",
    "    17: 4, #'Level 4/5',\n",
    "    18: 0, #'Other',\n",
    "    19: 0, #''No qualifications',\n",
    "    20: 0, #''No qualifications',\n",
    "    98: None,\n",
    "    99: None,\n",
    "    '1': 0, #'No qualifications',\n",
    "    '2': 2, #'Level 2',\n",
    "    '3': 2, #'Level 2',\n",
    "    '4': 1, #'Level 1',\n",
    "    '5': 1, #'Level 1',\n",
    "    '6': 2, #'Level 2',\n",
    "    '7': 2, #'Level 2',\n",
    "    '8': 1, #'Level 1',\n",
    "    '9': 2, #'Level 2',\n",
    "    '10': 2, #'Level 2',\n",
    "    '11': 3, #'Level 3',\n",
    "    '12': 3, #'Level 3',\n",
    "    '13': 4, #'Level 4/5',\n",
    "    '14': 4, #'Level 4/5',\n",
    "    '15': 4, #'Level 4/5',\n",
    "    '16': 4, #'Level 4/5',\n",
    "    '17': 4, #'Level 4/5',\n",
    "    '18': 0, #''Other',\n",
    "    '19': 0, #''No qualifications',\n",
    "    '20': 0, #''No qualifications',\n",
    "    '98': None,\n",
    "    '99': None\n",
    "}\n",
    "\n",
    "modelling_df[\"education_level\"] = pd.to_numeric(bes_w1_w19_df[\"p_educationW19\"].map(edlevel_mapping), errors=\"coerce\")"
   ]
  },
  {
   "cell_type": "code",
   "execution_count": 21,
   "metadata": {},
   "outputs": [
    {
     "name": "stdout",
     "output_type": "stream",
     "text": [
      "\n"
     ]
    },
    {
     "data": {
      "image/png": "[encoded data removed]",
      "text/plain": [
       "<Figure size 720x360 with 1 Axes>"
      ]
     },
     "metadata": {
      "needs_background": "light"
     },
     "output_type": "display_data"
    }
   ],
   "source": [
    "fig, axes = plt.subplots(figsize=(10,5))\n",
    "\n",
    "axes.hist(x=[modelling_df[modelling_df[\"ge_2019_vote\"] == 1][\"education_level\"],\n",
    "                    modelling_df[modelling_df[\"ge_2019_vote\"] == 2][\"education_level\"],\n",
    "                    modelling_df[modelling_df[\"ge_2019_vote\"] == 3][\"education_level\"]],\n",
    "                color=[\"blue\", \"red\", \"gold\"],\n",
    "                label=[\"con\", \"lab\", \"ld\"])\n",
    "\n",
    "axes.set_xlabel(\"<--- less educated/more educated --->\")\n",
    "axes.set_ylabel(\"respondents\")\n",
    "axes.set_title(\"Level of education\")\n",
    "\n",
    "print()"
   ]
  },
  {
   "cell_type": "markdown",
   "metadata": {},
   "source": [
    "### Features: Profile description"
   ]
  },
  {
   "cell_type": "code",
   "execution_count": 22,
   "metadata": {},
   "outputs": [],
   "source": [
    "modelling_df[\"gender\"] = pd.to_numeric(bes_w1_w19_df[\"gender\"], errors=\"coerce\")\n",
    "modelling_df[\"age\"] = pd.to_numeric(bes_w1_w19_df[\"ageW19\"], errors=\"coerce\")\n",
    "modelling_df[\"social_grade\"] = pd.to_numeric(bes_w1_w19_df[\"p_socgradeW19\"], errors=\"coerce\")\n",
    "# 8 = unknown\n",
    "modelling_df.loc[modelling_df[\"social_grade\"] == 8, \"social_grade\"] = None\n",
    "modelling_df[\"country\"] = pd.to_numeric(bes_w1_w19_df[\"countryW19\"], errors=\"coerce\").values"
   ]
  },
  {
   "cell_type": "markdown",
   "metadata": {},
   "source": [
    "### Features: Constituency level\n",
    "\n",
    "Here I'm going to pull in another dataset that I have made for other parts of this project. It includes data about constituencies. I'm going to extract some features from this data. For example, I'm going to features that describe where the Conservatives, Labour and the Liberal Democrats finished in each constituency in the past 2 elections. This will be encoded using the one-hot method."
   ]
  },
  {
   "cell_type": "code",
   "execution_count": 23,
   "metadata": {},
   "outputs": [],
   "source": [
    "constits_df = pd.read_csv(\"csvs/final_datasets/constits.csv\")\n",
    "pcon_codes_df = pd.read_csv(\"csvs/constituency_data/constit_pcon.csv\")\n",
    "\n",
    "constit_cols_to_include = [\"level_4_plus\", \"leave_share\", \"region_name\"]\n",
    "\n",
    "modelling_df[\"pcon\"] = pd.to_numeric(bes_w1_w19_df[\"pconW19\"], errors=\"coerce\")\n",
    "\n",
    "\n",
    "# Calculate the 1st placed, 2nd placed and 3rd placed parties and encode for selected parties\n",
    "parties_to_record = [\"con\", \"lab\", \"ld\"]\n",
    "parties_to_measure = [\"con\", \"lab\", \"ld\", \"ukip\", \"green\", \"snp\", \"pc\"]\n",
    "years = [\"2017\", \"2015\"]\n",
    "cols_to_fill = set()\n",
    "for year in years:\n",
    "    for party in parties_to_record:\n",
    "        cols_to_fill.add(year + \"_\" + party + \"_first\")\n",
    "        cols_to_fill.add(year + \"_\" + party + \"_second\")\n",
    "        cols_to_fill.add(year + \"_\" + party + \"_third\")\n",
    "\n",
    "constits_df = pd.merge(constits_df, pcon_codes_df, left_on=\"ons_id\", right_on=\"pconId\")\n",
    "pd.get_dummies(constits_df[\"region_name\"], prefix=\"region_\")\n",
    "\n",
    "constit_features_df = pd.DataFrame(columns=np.concatenate(([\"pcon\"], list(cols_to_fill), constit_cols_to_include)))\n",
    "\n",
    "for index, row in constits_df.iterrows():\n",
    "    new_row_attributes = {}\n",
    "    temp_cols_to_fill = cols_to_fill.copy()\n",
    "    for year in  years:\n",
    "        party_to_votes = {}\n",
    "        for party in parties_to_measure:\n",
    "            party_to_votes[party] = row[year + \"_\" + party]\n",
    "        sorted_parties = {k: v for k, v in sorted(party_to_votes.items(), key=lambda item: item[1], reverse=True)}\n",
    "        ordered_parties = list(sorted_parties.keys())\n",
    "        # first\n",
    "        first_col_name = year + \"_\" + ordered_parties[0] + \"_first\"\n",
    "        if (first_col_name in temp_cols_to_fill):\n",
    "            new_row_attributes[first_col_name] = 1\n",
    "            temp_cols_to_fill.remove(first_col_name)\n",
    "        # second\n",
    "        second_col_name = year + \"_\" + ordered_parties[1] + \"_second\"\n",
    "        if (second_col_name in temp_cols_to_fill):\n",
    "            new_row_attributes[second_col_name] = 1\n",
    "            temp_cols_to_fill.remove(second_col_name)\n",
    "        # third\n",
    "        third_col_name = year + \"_\" + ordered_parties[2] + \"_third\"\n",
    "        if (third_col_name in temp_cols_to_fill):\n",
    "            new_row_attributes[third_col_name] = 1\n",
    "            temp_cols_to_fill.remove(third_col_name)\n",
    "    for col_name in temp_cols_to_fill:\n",
    "        new_row_attributes[col_name] = 0\n",
    "    new_row_attributes[\"pcon\"] = int(row[\"pconNo\"])\n",
    "    \n",
    "    for col in constit_cols_to_include:\n",
    "        new_row_attributes[col] = row[col]\n",
    "        \n",
    "    constit_features_df = constit_features_df.append(new_row_attributes , ignore_index=True)\n",
    "\n",
    "# One hot encode region\n",
    "region_one_hot = pd.get_dummies(constit_features_df[\"region_name\"], prefix=\"region\")\n",
    "constit_features_df = constit_features_df.join(region_one_hot)\n",
    "constit_features_df.drop(\"region_name\", axis=1, inplace=True)\n",
    "\n",
    "# There is an issue here\n",
    "modelling_df = pd.merge(modelling_df, constit_features_df, on=\"pcon\")"
   ]
  },
  {
   "cell_type": "markdown",
   "metadata": {},
   "source": [
    "Finally, I'll write these results to a CSV."
   ]
  },
  {
   "cell_type": "code",
   "execution_count": 24,
   "metadata": {},
   "outputs": [],
   "source": [
    "modelling_df.to_csv(\"csvs/bes_datasets/voter_choice.csv\", index=False)"
   ]
  },
  {
   "cell_type": "markdown",
   "metadata": {},
   "source": [
    "# Modelling\n",
    "\n",
    "Before buidling any models, I'm going to set a few things up. \n",
    "\n",
    "I'm going to import some of the packages I'll be using and then I'm going to define a function that will transform our dataset into a format suitable for modelling. This means that I'll have to deal with invalid values and I'll provide a couple of options which will include multiple imputation. \n",
    "\n",
    "Finally, I'll define a function that will be passed the features and targets as well as a model and preform a k-fold cross validation. It will return a set of metrics including a confusion matrix visualisation. This function will also use SMOTE to create synthetic data for the training data of each fold. I'm going to use SMOTE as we're dealing with imbalanced data e.g. far more examples of Conservatives than Liberal Democrats.\n",
    "\n",
    "For the example modelling I've done below, I've restricted the target classes to just Conservative voters, Labour voters and Liberal Democrat voters."
   ]
  },
  {
   "cell_type": "code",
   "execution_count": 26,
   "metadata": {},
   "outputs": [],
   "source": [
    "# You sometimes have to run this twice, there's an inititally an error returned when importing SMOTE but it resolves on a second try\n",
    "from sklearn.model_selection import train_test_split\n",
    "from sklearn.metrics import confusion_matrix\n",
    "from sklearn.metrics import plot_confusion_matrix\n",
    "from sklearn.model_selection import cross_val_score\n",
    "from sklearn.model_selection import KFold\n",
    "from sklearn.model_selection import train_test_split\n",
    "from sklearn.base import clone\n",
    "from sklearn.metrics import accuracy_score\n",
    "from sklearn import metrics\n",
    "from imblearn.over_sampling import SMOTE\n",
    "from impyute.imputation.cs import mice\n",
    "import seaborn as sns"
   ]
  },
  {
   "cell_type": "code",
   "execution_count": 27,
   "metadata": {},
   "outputs": [],
   "source": [
    "modelling_df = pd.read_csv(\"csvs/bes_datasets/voter_choice.csv\")"
   ]
  },
  {
   "cell_type": "code",
   "execution_count": 28,
   "metadata": {},
   "outputs": [],
   "source": [
    "# Default: England only\n",
    "def load_final_dataset(countries=[1], na_handler=\"median\", parties=[\"con\", \"lab\", \"ld\"]):\n",
    "    modelling_df = pd.read_csv(\"csvs/bes_datasets/voter_choice.csv\")\n",
    "    \n",
    "    modelling_df = modelling_df[modelling_df[\"country\"].isin(countries)]\n",
    "    modelling_df[\"ge_2019_vote\"] = modelling_df[\"ge_2019_vote\"].map(party_num_to_name)\n",
    "    modelling_df = modelling_df[modelling_df[\"ge_2019_vote\"].isin(parties)]\n",
    "    \n",
    "    targets = modelling_df[\"ge_2019_vote\"]\n",
    "    features = modelling_df.drop([\"ge_2019_vote\", \"country\", \"pcon\"], axis=1)\n",
    "    \n",
    "    if (na_handler == \"multiple_imputation\"):\n",
    "        features = pd.DataFrame(mice(features.values))\n",
    "    elif (na_handler == \"drop\"):\n",
    "        features = features.dropna()\n",
    "    elif (na_handler == \"median\" or na_handler == \"mean\"):\n",
    "        for column in features.columns:\n",
    "            if (na_handler == \"median\"):\n",
    "                features[column] = features[column].fillna(features[column].median())\n",
    "            else:\n",
    "                features[column] = features[column].fillna(features[column].mean())\n",
    "    else:\n",
    "        raise Exception(\"na_handler not recognised\")\n",
    "    \n",
    "    return features, targets"
   ]
  },
  {
   "cell_type": "code",
   "execution_count": 29,
   "metadata": {},
   "outputs": [],
   "source": [
    "features, targets = load_final_dataset(na_handler=\"multiple_imputation\", parties=[\"con\", \"lab\", \"ld\"])"
   ]
  },
  {
   "cell_type": "code",
   "execution_count": 30,
   "metadata": {},
   "outputs": [],
   "source": [
    "def display_analytics(real_values, predictions, cm_labels):\n",
    "    cm = confusion_matrix(real_values, predictions)\n",
    "    \n",
    "    print(metrics.classification_report(real_values, predictions))\n",
    "    \n",
    "    normalised_cm = np.ones((len(cm), len(cm)))\n",
    "    for row in range(0, len(cm)):\n",
    "        row_sum = np.sum(cm[row])\n",
    "        for i in range(0, len(cm[0])):\n",
    "            normalised_cm[row][i] = float(cm[row][i])/float(row_sum)\n",
    "            \n",
    "    f = sns.heatmap(normalised_cm, annot=True, xticklabels=cm_labels, yticklabels=cm_labels, cmap=\"viridis\")\n",
    "    f.set_xlabel(\"Predicted labels\")\n",
    "    f.set_ylabel(\"True labels\")\n",
    "    \n",
    "    return cm\n",
    "\n",
    "def kFold_cross_validation_using_SMOTE(features, targets, k, model, parties=[\"con\", \"lab\", \"ld\"]):\n",
    "    kf = KFold(n_splits=k)\n",
    "    oversample = SMOTE()\n",
    "    empty_model = clone(model)\n",
    "    \n",
    "    combined_predictions = np.array([])\n",
    "    combined_real_values = np.array([])\n",
    "    accuracy_scores = np.array([])\n",
    "    \n",
    "    for train_index, test_index in kf.split(features):\n",
    "        X_train = features.values[train_index]\n",
    "        y_train = targets.values[train_index]\n",
    "        X_test = features.values[test_index]\n",
    "        y_test = targets.values[test_index]\n",
    "        \n",
    "        X_train, y_train = oversample.fit_resample(X_train, y_train)\n",
    "        \n",
    "        model = empty_model\n",
    "        model.fit(X_train, y_train)\n",
    "        \n",
    "        predicitions = model.predict(X_test)\n",
    "        \n",
    "        combined_predictions = np.concatenate((combined_predictions, predicitions), axis=None)\n",
    "        combined_real_values = np.concatenate((combined_real_values, y_test))\n",
    "        \n",
    "        accuracy_scores = np.append(accuracy_scores, accuracy_score(y_test, predicitions))\n",
    "\n",
    "    print(\"Average accuracy: \" + str(np.mean(accuracy_scores)))\n",
    "    print(\"Accuracy sd:      \" + str(np.std(accuracy_scores)))\n",
    "    print()\n",
    "    \n",
    "    display_analytics(combined_real_values, combined_predictions, parties)"
   ]
  },
  {
   "cell_type": "markdown",
   "metadata": {},
   "source": [
    "# Random Forest\n",
    "\n",
    "The first model I'm going to try is a random forest: https://scikit-learn.org/stable/modules/generated/sklearn.ensemble.RandomForestClassifier.html. It is an ensemble method meaning that multiple models are used to construct a single model. I'm first going to use the deafult hyperparameters and see how it does."
   ]
  },
  {
   "cell_type": "code",
   "execution_count": 31,
   "metadata": {},
   "outputs": [],
   "source": [
    "from sklearn.ensemble import RandomForestClassifier\n",
    "from sklearn.model_selection import RandomizedSearchCV\n",
    "from sklearn.model_selection import GridSearchCV"
   ]
  },
  {
   "cell_type": "code",
   "execution_count": 32,
   "metadata": {},
   "outputs": [
    {
     "name": "stdout",
     "output_type": "stream",
     "text": [
      "Average accuracy: 0.8550966457888819\n",
      "Accuracy sd:      0.006146749825273614\n",
      "\n",
      "              precision    recall  f1-score   support\n",
      "\n",
      "         con       0.93      0.95      0.94     10840\n",
      "         lab       0.82      0.84      0.83      6953\n",
      "          ld       0.63      0.56      0.60      3083\n",
      "\n",
      "    accuracy                           0.86     20876\n",
      "   macro avg       0.80      0.78      0.79     20876\n",
      "weighted avg       0.85      0.86      0.85     20876\n",
      "\n",
      "\n"
     ]
    },
    {
     "data": {
      "image/png": "[encoded data removed]",
      "text/plain": [
       "<Figure size 432x288 with 2 Axes>"
      ]
     },
     "metadata": {
      "needs_background": "light"
     },
     "output_type": "display_data"
    }
   ],
   "source": [
    "rfc = RandomForestClassifier()\n",
    "# [\"brexit\", \"con\", \"green\", \"lab\", \"ld\"]\n",
    "cm = kFold_cross_validation_using_SMOTE(features, targets, 5, rfc, parties=[\"con\", \"lab\", \"ld\"])\n",
    "print()"
   ]
  },
  {
   "cell_type": "markdown",
   "metadata": {},
   "source": [
    "Though preformance slightly differs from run to run, the default model is attaining around 85-87% accuracy. Analysis:\n",
    "- The model works very well for Conservative voters with precision and recall of both around 95%.\n",
    "- Unexpectedly, the model struggles much more when it comes to differentiating between Labour and Liberal democrat voters. It certainly deals better with Labour voters, with a precision of 0.82. The primary problem is Liberal Democrat voters being incorrectly classified as Labour voters. This occurs with 34% of the Liberal Democrat voters.\n",
    "- The model is very stable as there is a small standard deviation of accuracy between folds.\n",
    "\n",
    "### Random Forest hyperparameter optimisation\n",
    "We're going to optimise the following hyperparameters of our random forest:\n",
    "- n_estimators: number of trees\n",
    "- max_features: number of features considered when splitting\n",
    "- max_depth: max depth of the tree\n",
    "- min_samples_leaf: the minimum number of sample required to be a leaf node\n",
    "- boostrap: whether or not to use bootstrap samples when building trees\n",
    "\n",
    "We're going to use a two-step approach. First we are going to use a randomised search algorithm. This algorithm randomly samples combinations from a specified set of hyperparameters. After we get the results from that algorithm, we'll use an exhaustive grid search to explore the hyperparameter space around the optimal combination that was found by the randomised search."
   ]
  },
  {
   "cell_type": "code",
   "execution_count": null,
   "metadata": {},
   "outputs": [],
   "source": [
    "rfc = RandomForestClassifier()\n",
    "n_estimators = [int(x) for x in np.linspace(start = 100, stop = 1900, num = 10)]\n",
    "max_features = ['auto', 'sqrt']\n",
    "max_depth = [int(x) for x in np.linspace(10, 110, num = 11)]\n",
    "min_samples_split = [2, 5, 10]\n",
    "min_samples_leaf = [1, 2, 4]\n",
    "bootstrap = [True, False]\n",
    "\n",
    "hyperparameters = {'n_estimators': n_estimators,\n",
    "               'max_features': max_features,\n",
    "               'max_depth': max_depth,\n",
    "               'min_samples_split': min_samples_split,\n",
    "               'min_samples_leaf': min_samples_leaf,\n",
    "               'bootstrap': bootstrap}\n",
    "\n",
    "# n_iter: number of parameter settings that are to be sampled\n",
    "# cv: <cv>-fold cross validation method to use\n",
    "randomised_search_rfc = RandomizedSearchCV(estimator=rfc, param_distributions=hyperparameters, \n",
    "                            n_iter=50, cv=3, verbose=10, n_jobs=-1)\n",
    "\n",
    "randomised_search_rfc.fit(features, targets)\n",
    "\n",
    "print(randomised_search_rfc.best_estimator_)"
   ]
  },
  {
   "cell_type": "code",
   "execution_count": null,
   "metadata": {},
   "outputs": [],
   "source": [
    "#saved_vest_random_rfc = RandomForestClassifier(bootstrap=False, ccp_alpha=0.0, class_weight=None,\n",
    "#                       criterion='gini', max_depth=90, max_features='sqrt',\n",
    "#                       max_leaf_nodes=None, max_samples=None,\n",
    "#                       min_impurity_decrease=0.0, min_impurity_split=None,\n",
    "#                       min_samples_leaf=1, min_samples_split=2,\n",
    "#                       min_weight_fraction_leaf=0.0, n_estimators=100,\n",
    "#                       n_jobs=None, oob_score=False, random_state=None,\n",
    "#                       verbose=0, warm_start=False)"
   ]
  },
  {
   "cell_type": "code",
   "execution_count": null,
   "metadata": {},
   "outputs": [],
   "source": [
    "rfc = RandomForestClassifier()\n",
    "\n",
    "hyperparameters = {\n",
    "    'n_estimators': [90, 100, 110],\n",
    "    'max_features': [\"sqrt\"],\n",
    "    'max_depth': [80, 90, 100],\n",
    "    'min_samples_split': [1, 2],\n",
    "    'min_samples_leaf': [1, 2],\n",
    "    'bootstrap': [True, False]\n",
    "}\n",
    "\n",
    "grid_search_rfc = GridSearchCV(estimator = rfc, param_grid = hyperparameters, \n",
    "                          cv = 3, n_jobs = -1, verbose = 2)\n",
    "\n",
    "grid_search_rfc.fit(X_train, y_train)\n",
    "\n",
    "print(grid_search_rfc.best_estimator_)"
   ]
  },
  {
   "cell_type": "code",
   "execution_count": 37,
   "metadata": {},
   "outputs": [],
   "source": [
    "saved_best_rfc = RandomForestClassifier(bootstrap=False, ccp_alpha=0.0, class_weight=None,\n",
    "                       criterion='gini', max_depth=90, max_features='sqrt',\n",
    "                       max_leaf_nodes=None, max_samples=None,\n",
    "                       min_impurity_decrease=0.0, min_impurity_split=None,\n",
    "                       min_samples_leaf=1, min_samples_split=2,\n",
    "                       min_weight_fraction_leaf=0.0, n_estimators=90,\n",
    "                       n_jobs=None, oob_score=False, random_state=None,\n",
    "                       verbose=0, warm_start=False)"
   ]
  },
  {
   "cell_type": "code",
   "execution_count": 38,
   "metadata": {},
   "outputs": [
    {
     "name": "stdout",
     "output_type": "stream",
     "text": [
      "Average accuracy: 0.8545697340950283\n",
      "Accuracy sd:      0.00516105282165193\n",
      "\n",
      "              precision    recall  f1-score   support\n",
      "\n",
      "         con       0.93      0.95      0.94     10840\n",
      "         lab       0.81      0.85      0.83      6953\n",
      "          ld       0.64      0.55      0.59      3083\n",
      "\n",
      "    accuracy                           0.85     20876\n",
      "   macro avg       0.80      0.78      0.79     20876\n",
      "weighted avg       0.85      0.85      0.85     20876\n",
      "\n",
      "\n"
     ]
    },
    {
     "data": {
      "image/png": "[encoded data removed]",
      "text/plain": [
       "<Figure size 432x288 with 2 Axes>"
      ]
     },
     "metadata": {
      "needs_background": "light"
     },
     "output_type": "display_data"
    }
   ],
   "source": [
    "#best_rfc = grid_search_rfc.best_estimator_\n",
    "best_rfc = saved_best_rfc\n",
    "kFold_cross_validation_using_SMOTE(features, targets, 5, best_rfc)\n",
    "print()"
   ]
  },
  {
   "cell_type": "markdown",
   "metadata": {},
   "source": [
    "<a id=’neural_network’></a>\n",
    "# Neural Network\n",
    "\n",
    "Now I'm going to try out our classification problem using a simple feedforward neural network. The learning algorithm I use is mini-batch gradient descent applied over multiple epochs.\n",
    "\n",
    "To start off with I'll use a network with 4 hidden layers, the first will have 20 nodes and the rest will have 10. In the future I plan to return to this project and optimise the hyperparameters of the neural network using a genetic algorithm as I have in other projects.\n",
    "\n",
    "I'm going to have to write a few more functions just to get our data in a format that will work with Keras."
   ]
  },
  {
   "cell_type": "code",
   "execution_count": 39,
   "metadata": {},
   "outputs": [],
   "source": [
    "from keras.models import Sequential\n",
    "from keras.layers import Dense\n",
    "from keras.wrappers.scikit_learn import KerasClassifier\n",
    "from keras.utils import np_utils\n",
    "from sklearn.preprocessing import LabelEncoder"
   ]
  },
  {
   "cell_type": "code",
   "execution_count": 40,
   "metadata": {},
   "outputs": [],
   "source": [
    "def calculate_binary_targets(series, zero_class=\"con\"):\n",
    "    values = np.array([])\n",
    "    for index, value in series.iteritems():\n",
    "        if (value == zero_class):\n",
    "            values = np.append(values, 0)\n",
    "        else:\n",
    "            values = np.append(values, 1)\n",
    "    return values\n",
    "\n",
    "def create_dummy_targets(targets):\n",
    "    no_of_classes = len(pd.unique(targets))\n",
    "    if (no_of_classes > 2):\n",
    "        encoder = LabelEncoder()\n",
    "        encoder.fit(targets.values)\n",
    "        encoded_Y = encoder.transform(targets.values)\n",
    "        return np_utils.to_categorical(encoded_Y)\n",
    "    else:\n",
    "        return calculate_binary_targets(targets)"
   ]
  },
  {
   "cell_type": "code",
   "execution_count": 41,
   "metadata": {},
   "outputs": [],
   "source": [
    "X_train, X_test, y_train, y_test = train_test_split(features, targets, test_size=0.2)\n",
    "oversample = SMOTE()\n",
    "X_train, y_train = oversample.fit_resample(X_train, y_train)\n",
    "y_train_nn = create_dummy_targets(y_train)\n",
    "y_test_nn = create_dummy_targets(y_test)"
   ]
  },
  {
   "cell_type": "code",
   "execution_count": 42,
   "metadata": {},
   "outputs": [
    {
     "name": "stdout",
     "output_type": "stream",
     "text": [
      "Epoch 1/30\n",
      "5213/5213 [==============================] - 4s 731us/step - loss: 0.4939 - accuracy: 0.7902\n",
      "Epoch 2/30\n",
      "5213/5213 [==============================] - 4s 794us/step - loss: 0.4450 - accuracy: 0.8187\n",
      "Epoch 3/30\n",
      "5213/5213 [==============================] - 4s 804us/step - loss: 0.4389 - accuracy: 0.8216\n",
      "Epoch 4/30\n",
      "5213/5213 [==============================] - 4s 774us/step - loss: 0.4348 - accuracy: 0.8216\n",
      "Epoch 5/30\n",
      "5213/5213 [==============================] - 4s 755us/step - loss: 0.4295 - accuracy: 0.8236\n",
      "Epoch 6/30\n",
      "5213/5213 [==============================] - 4s 732us/step - loss: 0.4253 - accuracy: 0.8245\n",
      "Epoch 7/30\n",
      "5213/5213 [==============================] - 4s 787us/step - loss: 0.4186 - accuracy: 0.8272\n",
      "Epoch 8/30\n",
      "5213/5213 [==============================] - 3s 666us/step - loss: 0.4132 - accuracy: 0.8274\n",
      "Epoch 9/30\n",
      "5213/5213 [==============================] - 4s 825us/step - loss: 0.4104 - accuracy: 0.8275\n",
      "Epoch 10/30\n",
      "5213/5213 [==============================] - 4s 826us/step - loss: 0.4076 - accuracy: 0.8302\n",
      "Epoch 11/30\n",
      "5213/5213 [==============================] - 5s 1ms/step - loss: 0.4056 - accuracy: 0.8327\n",
      "Epoch 12/30\n",
      "5213/5213 [==============================] - 5s 902us/step - loss: 0.4026 - accuracy: 0.8324\n",
      "Epoch 13/30\n",
      "5213/5213 [==============================] - 7s 1ms/step - loss: 0.4001 - accuracy: 0.8344\n",
      "Epoch 14/30\n",
      "5213/5213 [==============================] - 5s 1ms/step - loss: 0.3987 - accuracy: 0.8356\n",
      "Epoch 15/30\n",
      "5213/5213 [==============================] - 5s 926us/step - loss: 0.3975 - accuracy: 0.8358\n",
      "Epoch 16/30\n",
      "5213/5213 [==============================] - 5s 905us/step - loss: 0.3945 - accuracy: 0.8391\n",
      "Epoch 17/30\n",
      "5213/5213 [==============================] - 4s 840us/step - loss: 0.3949 - accuracy: 0.8378\n",
      "Epoch 18/30\n",
      "5213/5213 [==============================] - 4s 790us/step - loss: 0.3915 - accuracy: 0.8414\n",
      "Epoch 19/30\n",
      "5213/5213 [==============================] - 5s 890us/step - loss: 0.3905 - accuracy: 0.8400\n",
      "Epoch 20/30\n",
      "5213/5213 [==============================] - 4s 731us/step - loss: 0.3880 - accuracy: 0.8423\n",
      "Epoch 21/30\n",
      "5213/5213 [==============================] - 4s 840us/step - loss: 0.3874 - accuracy: 0.8433\n",
      "Epoch 22/30\n",
      "5213/5213 [==============================] - 5s 943us/step - loss: 0.3861 - accuracy: 0.8418\n",
      "Epoch 23/30\n",
      "5213/5213 [==============================] - 4s 850us/step - loss: 0.3848 - accuracy: 0.8442\n",
      "Epoch 24/30\n",
      "5213/5213 [==============================] - 4s 789us/step - loss: 0.3829 - accuracy: 0.8453\n",
      "Epoch 25/30\n",
      "5213/5213 [==============================] - 4s 815us/step - loss: 0.3807 - accuracy: 0.8446\n",
      "Epoch 26/30\n",
      "5213/5213 [==============================] - 4s 795us/step - loss: 0.3804 - accuracy: 0.8449\n",
      "Epoch 27/30\n",
      "5213/5213 [==============================] - 6s 1ms/step - loss: 0.3798 - accuracy: 0.8469\n",
      "Epoch 28/30\n",
      "5213/5213 [==============================] - 7s 1ms/step - loss: 0.3792 - accuracy: 0.8470\n",
      "Epoch 29/30\n",
      "5213/5213 [==============================] - 5s 1ms/step - loss: 0.3775 - accuracy: 0.8461\n",
      "Epoch 30/30\n",
      "5213/5213 [==============================] - 4s 788us/step - loss: 0.3769 - accuracy: 0.8489\n"
     ]
    },
    {
     "data": {
      "text/plain": [
       "<tensorflow.python.keras.callbacks.History at 0x7fa95cb79190>"
      ]
     },
     "execution_count": 42,
     "metadata": {},
     "output_type": "execute_result"
    }
   ],
   "source": [
    "ann = Sequential()\n",
    "ann.add(Dense(20, input_dim=features.shape[1], activation=\"relu\"))\n",
    "ann.add(Dense(10, activation=\"relu\"))\n",
    "ann.add(Dense(10, activation=\"relu\"))\n",
    "ann.add(Dense(10, activation=\"relu\"))\n",
    "\n",
    "no_of_classes = len(pd.unique(targets))\n",
    "if (no_of_classes > 2):\n",
    "    ann.add(Dense(no_of_classes, activation=\"softmax\"))\n",
    "else:\n",
    "    ann.add(Dense(1, activation=\"softmax\"))\n",
    "\n",
    "ann.compile(loss='categorical_crossentropy', optimizer='adam', metrics=['accuracy'])\n",
    "\n",
    "ann.fit(X_train, y_train_nn, epochs=30, batch_size=5, verbose=1)"
   ]
  },
  {
   "cell_type": "code",
   "execution_count": 43,
   "metadata": {},
   "outputs": [
    {
     "name": "stdout",
     "output_type": "stream",
     "text": [
      "Accuracy score: 0.8417145593869731\n",
      "\n",
      "              precision    recall  f1-score   support\n",
      "\n",
      "         0.0       0.96      0.91      0.94      2152\n",
      "         1.0       0.86      0.77      0.81      1423\n",
      "         2.0       0.53      0.76      0.63       601\n",
      "\n",
      "    accuracy                           0.84      4176\n",
      "   macro avg       0.78      0.81      0.79      4176\n",
      "weighted avg       0.86      0.84      0.85      4176\n",
      "\n",
      "\n"
     ]
    },
    {
     "data": {
      "image/png": "[encoded data removed]",
      "text/plain": [
       "<Figure size 432x288 with 2 Axes>"
      ]
     },
     "metadata": {
      "needs_background": "light"
     },
     "output_type": "display_data"
    }
   ],
   "source": [
    "predictions = ann.predict(X_test)\n",
    "preditions_formatted = np.array([])\n",
    "for x in range(0, len(predictions)):\n",
    "    max_val = predictions[x][0]\n",
    "    max_loc = 0\n",
    "    for y in range(1, len(predictions[0])):\n",
    "        if (max_val < predictions[x][y]):\n",
    "            max_val = predictions[x][y]\n",
    "            max_loc = y\n",
    "    preditions_formatted = np.append(preditions_formatted, max_loc)\n",
    "    \n",
    "party_name_to_num = {v: k for k, v in party_num_to_name.items()}\n",
    "\n",
    "y_test_nn_formatted = np.array([])\n",
    "for i in range(0, len(y_test)):\n",
    "    y_test_nn_formatted = np.append(y_test_nn_formatted, party_name_to_num[y_test.values[i]] - 1)\n",
    "\n",
    "print(\"Accuracy score: \" + str(accuracy_score(y_test_nn_formatted, preditions_formatted)))\n",
    "print()\n",
    "\n",
    "display_analytics(y_test_nn_formatted, preditions_formatted, [\"con\", \"lab\", \"ld\"])\n",
    "\n",
    "print()"
   ]
  },
  {
   "cell_type": "markdown",
   "metadata": {},
   "source": [
    "Here we get a different kind of model. From run to run accuracy differs bouncing around a range of about 83% accuracy to 87%. So on average, this neural network has a slightly lower overall accuracy than the random forest we built before. Interestingly however, SMOTE seems to have been much more effective at making the classifier more balanced. The recall of Labour has decreased by around a bit, however the recall of Liberal Democrats has signifcantly decreased. Though this differs in magnitude between runs.\n",
    "\n",
    "Therefore if we were classifying samples that were unifromly distributed between the different parties our neural network would be more reliable. However we know this isn't that case as in England in 2019 over 80% of voters either picked Labour or the Conservaties."
   ]
  },
  {
   "cell_type": "code",
   "execution_count": null,
   "metadata": {},
   "outputs": [],
   "source": []
  }
 ],
 "metadata": {
  "kernelspec": {
   "display_name": "Python 3",
   "language": "python",
   "name": "python3"
  },
  "language_info": {
   "codemirror_mode": {
    "name": "ipython",
    "version": 3
   },
   "file_extension": ".py",
   "mimetype": "text/x-python",
   "name": "python",
   "nbconvert_exporter": "python",
   "pygments_lexer": "ipython3",
   "version": "3.7.6"
  }
 },
 "nbformat": 4,
 "nbformat_minor": 4
}
